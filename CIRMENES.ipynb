{
 "cells": [
  {
   "cell_type": "code",
   "execution_count": 56,
   "metadata": {},
   "outputs": [],
   "source": [
    "import pandas as pd\n",
    "import seaborn as sns\n",
    "import matplotlib.pyplot as plt"
   ]
  },
  {
   "cell_type": "code",
   "execution_count": 57,
   "metadata": {},
   "outputs": [
    {
     "name": "stderr",
     "output_type": "stream",
     "text": [
      "C:\\Users\\Administrador\\AppData\\Local\\Temp\\ipykernel_1700\\2407660130.py:1: DtypeWarning: Columns (11) have mixed types. Specify dtype option on import or set low_memory=False.\n",
      "  df = pd.read_csv('Estadisticas.csv', sep=',', decimal = '.')\n"
     ]
    },
    {
     "data": {
      "text/html": [
       "<div>\n",
       "<style scoped>\n",
       "    .dataframe tbody tr th:only-of-type {\n",
       "        vertical-align: middle;\n",
       "    }\n",
       "\n",
       "    .dataframe tbody tr th {\n",
       "        vertical-align: top;\n",
       "    }\n",
       "\n",
       "    .dataframe thead th {\n",
       "        text-align: right;\n",
       "    }\n",
       "</style>\n",
       "<table border=\"1\" class=\"dataframe\">\n",
       "  <thead>\n",
       "    <tr style=\"text-align: right;\">\n",
       "      <th></th>\n",
       "      <th>Delito</th>\n",
       "      <th>SubDelito</th>\n",
       "      <th>Fecha</th>\n",
       "      <th>Hora</th>\n",
       "      <th>Victima</th>\n",
       "      <th>SubVictima</th>\n",
       "      <th>Edad</th>\n",
       "      <th>Genero</th>\n",
       "      <th>Nacionalidad</th>\n",
       "      <th>Provincia</th>\n",
       "      <th>Canton</th>\n",
       "      <th>Distrito</th>\n",
       "      <th>Unnamed: 12</th>\n",
       "    </tr>\n",
       "  </thead>\n",
       "  <tbody>\n",
       "    <tr>\n",
       "      <th>0</th>\n",
       "      <td>ASALTO</td>\n",
       "      <td>ARMA BLANCA</td>\n",
       "      <td>2019-01-01</td>\n",
       "      <td>12:00:00 - 14:59:59</td>\n",
       "      <td>VIVIENDA</td>\n",
       "      <td>NO APLICA [VIVIENDA]</td>\n",
       "      <td>Mayor de edad</td>\n",
       "      <td>MUJER</td>\n",
       "      <td>COSTA RICA</td>\n",
       "      <td>LIMON</td>\n",
       "      <td>LIMON</td>\n",
       "      <td>NaN</td>\n",
       "      <td>NaN</td>\n",
       "    </tr>\n",
       "    <tr>\n",
       "      <th>1</th>\n",
       "      <td>ASALTO</td>\n",
       "      <td>ARMA BLANCA</td>\n",
       "      <td>2019-01-02</td>\n",
       "      <td>18:00:00 - 20:59:59</td>\n",
       "      <td>PERSONA</td>\n",
       "      <td>PEATON [PERSONA]</td>\n",
       "      <td>Mayor de edad</td>\n",
       "      <td>HOMBRE</td>\n",
       "      <td>NICARAGUA</td>\n",
       "      <td>SAN JOSE</td>\n",
       "      <td>GOICOECHEA</td>\n",
       "      <td>NaN</td>\n",
       "      <td>NaN</td>\n",
       "    </tr>\n",
       "    <tr>\n",
       "      <th>2</th>\n",
       "      <td>ASALTO</td>\n",
       "      <td>ARMA BLANCA</td>\n",
       "      <td>2019-01-08</td>\n",
       "      <td>00:00:00 - 02:59:59</td>\n",
       "      <td>VEHICULO</td>\n",
       "      <td>SERVICIO PUBLICO/TAXI LEGAL O PIRATA/AUTOBUS [...</td>\n",
       "      <td>Mayor de edad</td>\n",
       "      <td>HOMBRE</td>\n",
       "      <td>NICARAGUA</td>\n",
       "      <td>SAN JOSE</td>\n",
       "      <td>DESAMPARADOS</td>\n",
       "      <td>NaN</td>\n",
       "      <td>NaN</td>\n",
       "    </tr>\n",
       "    <tr>\n",
       "      <th>3</th>\n",
       "      <td>ASALTO</td>\n",
       "      <td>ARMA BLANCA</td>\n",
       "      <td>2019-01-07</td>\n",
       "      <td>18:00:00 - 20:59:59</td>\n",
       "      <td>PERSONA</td>\n",
       "      <td>PEATON [PERSONA]</td>\n",
       "      <td>Mayor de edad</td>\n",
       "      <td>MUJER</td>\n",
       "      <td>COSTA RICA</td>\n",
       "      <td>HEREDIA</td>\n",
       "      <td>SARAPIQUI</td>\n",
       "      <td>NaN</td>\n",
       "      <td>NaN</td>\n",
       "    </tr>\n",
       "    <tr>\n",
       "      <th>4</th>\n",
       "      <td>ASALTO</td>\n",
       "      <td>ARMA BLANCA</td>\n",
       "      <td>2019-01-11</td>\n",
       "      <td>03:00:00 - 05:59:59</td>\n",
       "      <td>PERSONA</td>\n",
       "      <td>PEATON [PERSONA]</td>\n",
       "      <td>Mayor de edad</td>\n",
       "      <td>HOMBRE</td>\n",
       "      <td>COSTA RICA</td>\n",
       "      <td>CARTAGO</td>\n",
       "      <td>EL GUARCO</td>\n",
       "      <td>NaN</td>\n",
       "      <td>NaN</td>\n",
       "    </tr>\n",
       "  </tbody>\n",
       "</table>\n",
       "</div>"
      ],
      "text/plain": [
       "   Delito    SubDelito       Fecha                 Hora   Victima  \\\n",
       "0  ASALTO  ARMA BLANCA  2019-01-01  12:00:00 - 14:59:59  VIVIENDA   \n",
       "1  ASALTO  ARMA BLANCA  2019-01-02  18:00:00 - 20:59:59   PERSONA   \n",
       "2  ASALTO  ARMA BLANCA  2019-01-08  00:00:00 - 02:59:59  VEHICULO   \n",
       "3  ASALTO  ARMA BLANCA  2019-01-07  18:00:00 - 20:59:59   PERSONA   \n",
       "4  ASALTO  ARMA BLANCA  2019-01-11  03:00:00 - 05:59:59   PERSONA   \n",
       "\n",
       "                                          SubVictima           Edad  Genero  \\\n",
       "0                               NO APLICA [VIVIENDA]  Mayor de edad   MUJER   \n",
       "1                                   PEATON [PERSONA]  Mayor de edad  HOMBRE   \n",
       "2  SERVICIO PUBLICO/TAXI LEGAL O PIRATA/AUTOBUS [...  Mayor de edad  HOMBRE   \n",
       "3                                   PEATON [PERSONA]  Mayor de edad   MUJER   \n",
       "4                                   PEATON [PERSONA]  Mayor de edad  HOMBRE   \n",
       "\n",
       "  Nacionalidad Provincia        Canton Distrito  Unnamed: 12  \n",
       "0   COSTA RICA     LIMON         LIMON      NaN          NaN  \n",
       "1    NICARAGUA  SAN JOSE    GOICOECHEA      NaN          NaN  \n",
       "2    NICARAGUA  SAN JOSE  DESAMPARADOS      NaN          NaN  \n",
       "3   COSTA RICA   HEREDIA     SARAPIQUI      NaN          NaN  \n",
       "4   COSTA RICA   CARTAGO     EL GUARCO      NaN          NaN  "
      ]
     },
     "execution_count": 57,
     "metadata": {},
     "output_type": "execute_result"
    }
   ],
   "source": [
    "df = pd.read_csv('Estadisticas.csv', sep=',', decimal = '.')\n",
    "df.head()"
   ]
  },
  {
   "cell_type": "code",
   "execution_count": 58,
   "metadata": {},
   "outputs": [],
   "source": [
    "#remove the last 2 columns\n",
    "df = df.drop(df.columns[-2:], axis=1)"
   ]
  },
  {
   "cell_type": "code",
   "execution_count": 59,
   "metadata": {},
   "outputs": [
    {
     "data": {
      "text/plain": [
       "Delito          0\n",
       "SubDelito       0\n",
       "Fecha           0\n",
       "Hora            0\n",
       "Victima         0\n",
       "SubVictima      0\n",
       "Edad            0\n",
       "Genero          0\n",
       "Nacionalidad    0\n",
       "Provincia       0\n",
       "Canton          0\n",
       "dtype: int64"
      ]
     },
     "execution_count": 59,
     "metadata": {},
     "output_type": "execute_result"
    }
   ],
   "source": [
    "#review the nan values\n",
    "df.isnull().sum()"
   ]
  },
  {
   "cell_type": "code",
   "execution_count": 60,
   "metadata": {},
   "outputs": [
    {
     "name": "stdout",
     "output_type": "stream",
     "text": [
      "Delito          object\n",
      "SubDelito       object\n",
      "Fecha           object\n",
      "Hora            object\n",
      "Victima         object\n",
      "SubVictima      object\n",
      "Edad            object\n",
      "Genero          object\n",
      "Nacionalidad    object\n",
      "Provincia       object\n",
      "Canton          object\n",
      "dtype: object\n"
     ]
    }
   ],
   "source": [
    "#print(df.info())\n",
    "#print(df.describe())\n",
    "print(df.dtypes)"
   ]
  },
  {
   "cell_type": "code",
   "execution_count": 61,
   "metadata": {},
   "outputs": [],
   "source": [
    "#change the data type of the columns to numeric\n",
    "df['Fecha'] = pd.to_datetime(df['Fecha'])\n",
    "df['Fecha'] = df['Fecha'].dt.strftime('%Y-%m-%d')\n",
    "df['Fecha'] = pd.to_datetime(df['Fecha'])"
   ]
  },
  {
   "cell_type": "code",
   "execution_count": 62,
   "metadata": {},
   "outputs": [
    {
     "data": {
      "text/html": [
       "<div>\n",
       "<style scoped>\n",
       "    .dataframe tbody tr th:only-of-type {\n",
       "        vertical-align: middle;\n",
       "    }\n",
       "\n",
       "    .dataframe tbody tr th {\n",
       "        vertical-align: top;\n",
       "    }\n",
       "\n",
       "    .dataframe thead th {\n",
       "        text-align: right;\n",
       "    }\n",
       "</style>\n",
       "<table border=\"1\" class=\"dataframe\">\n",
       "  <thead>\n",
       "    <tr style=\"text-align: right;\">\n",
       "      <th></th>\n",
       "      <th>Delito</th>\n",
       "      <th>SubDelito</th>\n",
       "      <th>Hora</th>\n",
       "      <th>Victima</th>\n",
       "      <th>SubVictima</th>\n",
       "      <th>Edad</th>\n",
       "      <th>Genero</th>\n",
       "      <th>Nacionalidad</th>\n",
       "      <th>Provincia</th>\n",
       "      <th>Canton</th>\n",
       "    </tr>\n",
       "  </thead>\n",
       "  <tbody>\n",
       "    <tr>\n",
       "      <th>0</th>\n",
       "      <td>ASALTO</td>\n",
       "      <td>ARMA BLANCA</td>\n",
       "      <td>12:00:00 - 14:59:59</td>\n",
       "      <td>VIVIENDA</td>\n",
       "      <td>NO APLICA [VIVIENDA]</td>\n",
       "      <td>Mayor de edad</td>\n",
       "      <td>MUJER</td>\n",
       "      <td>COSTA RICA</td>\n",
       "      <td>LIMON</td>\n",
       "      <td>LIMON</td>\n",
       "    </tr>\n",
       "    <tr>\n",
       "      <th>1</th>\n",
       "      <td>ASALTO</td>\n",
       "      <td>ARMA BLANCA</td>\n",
       "      <td>18:00:00 - 20:59:59</td>\n",
       "      <td>PERSONA</td>\n",
       "      <td>PEATON [PERSONA]</td>\n",
       "      <td>Mayor de edad</td>\n",
       "      <td>HOMBRE</td>\n",
       "      <td>NICARAGUA</td>\n",
       "      <td>SAN JOSE</td>\n",
       "      <td>GOICOECHEA</td>\n",
       "    </tr>\n",
       "    <tr>\n",
       "      <th>2</th>\n",
       "      <td>ASALTO</td>\n",
       "      <td>ARMA BLANCA</td>\n",
       "      <td>00:00:00 - 02:59:59</td>\n",
       "      <td>VEHICULO</td>\n",
       "      <td>SERVICIO PUBLICO/TAXI LEGAL O PIRATA/AUTOBUS [...</td>\n",
       "      <td>Mayor de edad</td>\n",
       "      <td>HOMBRE</td>\n",
       "      <td>NICARAGUA</td>\n",
       "      <td>SAN JOSE</td>\n",
       "      <td>DESAMPARADOS</td>\n",
       "    </tr>\n",
       "    <tr>\n",
       "      <th>3</th>\n",
       "      <td>ASALTO</td>\n",
       "      <td>ARMA BLANCA</td>\n",
       "      <td>18:00:00 - 20:59:59</td>\n",
       "      <td>PERSONA</td>\n",
       "      <td>PEATON [PERSONA]</td>\n",
       "      <td>Mayor de edad</td>\n",
       "      <td>MUJER</td>\n",
       "      <td>COSTA RICA</td>\n",
       "      <td>HEREDIA</td>\n",
       "      <td>SARAPIQUI</td>\n",
       "    </tr>\n",
       "    <tr>\n",
       "      <th>4</th>\n",
       "      <td>ASALTO</td>\n",
       "      <td>ARMA BLANCA</td>\n",
       "      <td>03:00:00 - 05:59:59</td>\n",
       "      <td>PERSONA</td>\n",
       "      <td>PEATON [PERSONA]</td>\n",
       "      <td>Mayor de edad</td>\n",
       "      <td>HOMBRE</td>\n",
       "      <td>COSTA RICA</td>\n",
       "      <td>CARTAGO</td>\n",
       "      <td>EL GUARCO</td>\n",
       "    </tr>\n",
       "  </tbody>\n",
       "</table>\n",
       "</div>"
      ],
      "text/plain": [
       "   Delito    SubDelito                 Hora   Victima  \\\n",
       "0  ASALTO  ARMA BLANCA  12:00:00 - 14:59:59  VIVIENDA   \n",
       "1  ASALTO  ARMA BLANCA  18:00:00 - 20:59:59   PERSONA   \n",
       "2  ASALTO  ARMA BLANCA  00:00:00 - 02:59:59  VEHICULO   \n",
       "3  ASALTO  ARMA BLANCA  18:00:00 - 20:59:59   PERSONA   \n",
       "4  ASALTO  ARMA BLANCA  03:00:00 - 05:59:59   PERSONA   \n",
       "\n",
       "                                          SubVictima           Edad  Genero  \\\n",
       "0                               NO APLICA [VIVIENDA]  Mayor de edad   MUJER   \n",
       "1                                   PEATON [PERSONA]  Mayor de edad  HOMBRE   \n",
       "2  SERVICIO PUBLICO/TAXI LEGAL O PIRATA/AUTOBUS [...  Mayor de edad  HOMBRE   \n",
       "3                                   PEATON [PERSONA]  Mayor de edad   MUJER   \n",
       "4                                   PEATON [PERSONA]  Mayor de edad  HOMBRE   \n",
       "\n",
       "  Nacionalidad Provincia        Canton  \n",
       "0   COSTA RICA     LIMON         LIMON  \n",
       "1    NICARAGUA  SAN JOSE    GOICOECHEA  \n",
       "2    NICARAGUA  SAN JOSE  DESAMPARADOS  \n",
       "3   COSTA RICA   HEREDIA     SARAPIQUI  \n",
       "4   COSTA RICA   CARTAGO     EL GUARCO  "
      ]
     },
     "execution_count": 62,
     "metadata": {},
     "output_type": "execute_result"
    }
   ],
   "source": [
    "#copy the object type columns to a new df\n",
    "df_obj = df.select_dtypes(include=['object'])\n",
    "df_obj.head()"
   ]
  },
  {
   "cell_type": "code",
   "execution_count": 63,
   "metadata": {},
   "outputs": [
    {
     "data": {
      "text/plain": [
       "Delito          category\n",
       "SubDelito       category\n",
       "Hora            category\n",
       "Victima         category\n",
       "SubVictima      category\n",
       "Edad            category\n",
       "Genero          category\n",
       "Nacionalidad    category\n",
       "Provincia       category\n",
       "Canton          category\n",
       "dtype: object"
      ]
     },
     "execution_count": 63,
     "metadata": {},
     "output_type": "execute_result"
    }
   ],
   "source": [
    "#df_obj to cateogry\n",
    "df_obj = df_obj.apply(lambda x: x.astype('category'))\n",
    "df_obj.dtypes"
   ]
  },
  {
   "cell_type": "code",
   "execution_count": 64,
   "metadata": {},
   "outputs": [
    {
     "name": "stdout",
     "output_type": "stream",
     "text": [
      "Delito\n",
      "6\n",
      "SubDelito\n",
      "40\n",
      "Hora\n",
      "8\n",
      "Victima\n",
      "5\n",
      "SubVictima\n",
      "92\n",
      "Edad\n",
      "4\n",
      "Genero\n",
      "3\n",
      "Nacionalidad\n",
      "115\n",
      "Provincia\n",
      "9\n",
      "Canton\n",
      "83\n"
     ]
    }
   ],
   "source": [
    "for i in df_obj.columns:\n",
    "    print(i)\n",
    "    print(df_obj[i].value_counts().count())"
   ]
  },
  {
   "cell_type": "markdown",
   "metadata": {},
   "source": [
    "#remove Nacionalidad y subdelito\n",
    "df_obj = df_obj.drop(['Nacionalidad', 'SubDelito','SubVictima'], axis=1)"
   ]
  },
  {
   "cell_type": "code",
   "execution_count": 65,
   "metadata": {},
   "outputs": [
    {
     "name": "stderr",
     "output_type": "stream",
     "text": [
      "c:\\Users\\Administrador\\AppData\\Local\\Programs\\Python\\Python310\\lib\\site-packages\\seaborn\\_decorators.py:36: FutureWarning: Pass the following variables as keyword args: x, y. From version 0.12, the only valid positional argument will be `data`, and passing other arguments without an explicit keyword will result in an error or misinterpretation.\n",
      "  warnings.warn(\n"
     ]
    },
    {
     "data": {
      "image/png": "[encoded data removed]",
      "text/plain": [
       "<Figure size 432x288 with 1 Axes>"
      ]
     },
     "metadata": {},
     "output_type": "display_data"
    },
    {
     "name": "stderr",
     "output_type": "stream",
     "text": [
      "c:\\Users\\Administrador\\AppData\\Local\\Programs\\Python\\Python310\\lib\\site-packages\\seaborn\\_decorators.py:36: FutureWarning: Pass the following variables as keyword args: x, y. From version 0.12, the only valid positional argument will be `data`, and passing other arguments without an explicit keyword will result in an error or misinterpretation.\n",
      "  warnings.warn(\n"
     ]
    },
    {
     "data": {
      "image/png": "[encoded data removed]",
      "text/plain": [
       "<Figure size 432x288 with 1 Axes>"
      ]
     },
     "metadata": {},
     "output_type": "display_data"
    },
    {
     "name": "stderr",
     "output_type": "stream",
     "text": [
      "c:\\Users\\Administrador\\AppData\\Local\\Programs\\Python\\Python310\\lib\\site-packages\\seaborn\\_decorators.py:36: FutureWarning: Pass the following variables as keyword args: x, y. From version 0.12, the only valid positional argument will be `data`, and passing other arguments without an explicit keyword will result in an error or misinterpretation.\n",
      "  warnings.warn(\n"
     ]
    },
    {
     "data": {
      "image/png": "[encoded data removed]",
      "text/plain": [
       "<Figure size 432x288 with 1 Axes>"
      ]
     },
     "metadata": {},
     "output_type": "display_data"
    },
    {
     "name": "stderr",
     "output_type": "stream",
     "text": [
      "c:\\Users\\Administrador\\AppData\\Local\\Programs\\Python\\Python310\\lib\\site-packages\\seaborn\\_decorators.py:36: FutureWarning: Pass the following variables as keyword args: x, y. From version 0.12, the only valid positional argument will be `data`, and passing other arguments without an explicit keyword will result in an error or misinterpretation.\n",
      "  warnings.warn(\n"
     ]
    },
    {
     "data": {
      "image/png": "[encoded data removed]",
      "text/plain": [
       "<Figure size 432x288 with 1 Axes>"
      ]
     },
     "metadata": {},
     "output_type": "display_data"
    },
    {
     "name": "stderr",
     "output_type": "stream",
     "text": [
      "c:\\Users\\Administrador\\AppData\\Local\\Programs\\Python\\Python310\\lib\\site-packages\\seaborn\\_decorators.py:36: FutureWarning: Pass the following variables as keyword args: x, y. From version 0.12, the only valid positional argument will be `data`, and passing other arguments without an explicit keyword will result in an error or misinterpretation.\n",
      "  warnings.warn(\n"
     ]
    },
    {
     "data": {
      "image/png": "[encoded data removed]",
      "text/plain": [
       "<Figure size 432x288 with 1 Axes>"
      ]
     },
     "metadata": {},
     "output_type": "display_data"
    },
    {
     "name": "stderr",
     "output_type": "stream",
     "text": [
      "c:\\Users\\Administrador\\AppData\\Local\\Programs\\Python\\Python310\\lib\\site-packages\\seaborn\\_decorators.py:36: FutureWarning: Pass the following variables as keyword args: x, y. From version 0.12, the only valid positional argument will be `data`, and passing other arguments without an explicit keyword will result in an error or misinterpretation.\n",
      "  warnings.warn(\n"
     ]
    },
    {
     "data": {
      "image/png": "[encoded data removed]",
      "text/plain": [
       "<Figure size 432x288 with 1 Axes>"
      ]
     },
     "metadata": {},
     "output_type": "display_data"
    },
    {
     "name": "stderr",
     "output_type": "stream",
     "text": [
      "c:\\Users\\Administrador\\AppData\\Local\\Programs\\Python\\Python310\\lib\\site-packages\\seaborn\\_decorators.py:36: FutureWarning: Pass the following variables as keyword args: x, y. From version 0.12, the only valid positional argument will be `data`, and passing other arguments without an explicit keyword will result in an error or misinterpretation.\n",
      "  warnings.warn(\n"
     ]
    },
    {
     "data": {
      "image/png": "[encoded data removed]",
      "text/plain": [
       "<Figure size 432x288 with 1 Axes>"
      ]
     },
     "metadata": {},
     "output_type": "display_data"
    },
    {
     "name": "stderr",
     "output_type": "stream",
     "text": [
      "c:\\Users\\Administrador\\AppData\\Local\\Programs\\Python\\Python310\\lib\\site-packages\\seaborn\\_decorators.py:36: FutureWarning: Pass the following variables as keyword args: x, y. From version 0.12, the only valid positional argument will be `data`, and passing other arguments without an explicit keyword will result in an error or misinterpretation.\n",
      "  warnings.warn(\n"
     ]
    },
    {
     "data": {
      "image/png": "[encoded data removed]",
      "text/plain": [
       "<Figure size 432x288 with 1 Axes>"
      ]
     },
     "metadata": {},
     "output_type": "display_data"
    },
    {
     "name": "stderr",
     "output_type": "stream",
     "text": [
      "c:\\Users\\Administrador\\AppData\\Local\\Programs\\Python\\Python310\\lib\\site-packages\\seaborn\\_decorators.py:36: FutureWarning: Pass the following variables as keyword args: x, y. From version 0.12, the only valid positional argument will be `data`, and passing other arguments without an explicit keyword will result in an error or misinterpretation.\n",
      "  warnings.warn(\n"
     ]
    },
    {
     "data": {
      "image/png": "[encoded data removed]",
      "text/plain": [
       "<Figure size 432x288 with 1 Axes>"
      ]
     },
     "metadata": {},
     "output_type": "display_data"
    },
    {
     "name": "stderr",
     "output_type": "stream",
     "text": [
      "c:\\Users\\Administrador\\AppData\\Local\\Programs\\Python\\Python310\\lib\\site-packages\\seaborn\\_decorators.py:36: FutureWarning: Pass the following variables as keyword args: x, y. From version 0.12, the only valid positional argument will be `data`, and passing other arguments without an explicit keyword will result in an error or misinterpretation.\n",
      "  warnings.warn(\n"
     ]
    },
    {
     "data": {
      "image/png": "[encoded data removed]",
      "text/plain": [
       "<Figure size 432x288 with 1 Axes>"
      ]
     },
     "metadata": {},
     "output_type": "display_data"
    }
   ],
   "source": [
    "for i in df_obj.columns:\n",
    "    contadorCol= df_obj[i].value_counts()\n",
    "    sns.set(style=\"darkgrid\")\n",
    "    sns.barplot(contadorCol.index, contadorCol.values, alpha=0.9)\n",
    "    plt.title(i)\n",
    "    plt.show()"
   ]
  },
  {
   "cell_type": "code",
   "execution_count": 66,
   "metadata": {},
   "outputs": [
    {
     "name": "stdout",
     "output_type": "stream",
     "text": [
      "{'Delito': {'ASALTO': 1, 'HOMICIDIO': 2, 'HURTO': 3, 'ROBO': 4, 'ROBO DE VEHICULO': 5, 'TACHA DE VEHICULO': 6}}\n",
      "{'SubDelito': {'AJUSTE DE CUENTAS/VENGANZA': 1, 'ARDID PREVIO': 2, 'ARDID PREVIO/DISTRACCION': 3, 'ARMA BLANCA': 4, 'ARMA CONTUNDENTE': 5, 'ARMA DE FUEGO': 6, 'ARREBATO': 7, 'ASALTO': 8, 'BOQUETE': 9, 'CANDADO CHINO': 10, 'CARTERISTA': 11, 'COCHERAZO': 12, 'CON LLAVE': 13, 'CORTA CANDADOS': 14, 'DESCONOCIDO': 15, 'DESCUIDO': 16, 'DISCUSION/RI&#209;A': 17, 'ESCALAMIENTO': 18, 'FEMICIDIO': 19, 'FORZADURA': 20, 'GANZUA/VARILLA': 21, 'GOLPES': 22, 'IDEOLOGICO': 23, 'INMOVILIZACION': 24, 'INTIMIDACION VERBAL': 25, 'NO DETERMINADO': 26, 'OTRO O INDETERMINADO': 27, 'POR CONFIANZA': 28, 'POR DESCUIDO': 29, 'POR LA COMISION DE OTRO DELITO': 30, 'PROFESIONAL': 31, 'PROGRESIVOS': 32, 'QUITAN CELOSIAS': 33, 'REPELIENDO ACTIVIDAD CRIMINAL': 34, 'RETIRO DE CAJERO AUTOMATICO': 35, 'RUPTURA VENTANA': 36, 'TACHA DE VEHICULO': 37, 'USO DE GAS': 38, 'USO DE SOMNIFERO': 39, 'VIOLENCIA DOMESTICA': 40}}\n",
      "{'Hora': {'00:00:00 - 02:59:59': 1, '03:00:00 - 05:59:59': 2, '06:00:00 - 08:59:59': 3, '09:00:00 - 11:59:59': 4, '12:00:00 - 14:59:59': 5, '15:00:00 - 17:59:59': 6, '18:00:00 - 20:59:59': 7, '21:00:00 - 23:59:59': 8}}\n",
      "{'Victima': {'EDIFICACION': 1, 'OTROS': 2, 'PERSONA': 3, 'VEHICULO': 4, 'VIVIENDA': 5}}\n",
      "{'SubVictima': {'ACUATICO [VEHICULO]': 1, 'ALCOHOLICO (CRONICO) [PERSONA]': 2, 'ARMERIA [EDIFICACION]': 3, 'AUTOMOVIL [VEHICULO]': 4, 'AUTOMOVIL/MENSAJERO/COBRADOR [VEHICULO]': 5, 'AUTOMOVIL/REPARTIDOR [VEHICULO]': 6, 'BANCO [EDIFICACION]': 7, 'BAR [EDIFICACION]': 8, 'BICICLETA [OTROS]': 9, 'BICICLETA/REPARTIDOR/MENSAJERO/COBRADOR [OTROS]': 10, 'BODEGA/DEPOSITO/ALMACEN [EDIFICACION]': 11, 'CAF&#201; INTERNET [EDIFICACION]': 12, 'CAJERO AUTOMATICO [OTROS]': 13, 'CARGA LIVIANA [VEHICULO]': 14, 'CARGA LIVIANA/MENSAJERO/COBRADOR [VEHICULO]': 15, 'CARGA LIVIANA/REPARTIDOR [VEHICULO]': 16, 'CARGA [VEHICULO]': 17, 'CENTRO EDUCATIVO [EDIFICACION]': 18, 'CENTRO NOCTURNO [EDIFICACION]': 19, 'CLIENTE BANCARIO [PERSONA]': 20, 'CLIENTE HOTEL/MOTEL/PENSION [PERSONA]': 21, 'CLIENTE LOCAL COMERCIAL [PERSONA]': 22, 'COBRADOR/MENSAJERO/PAGADOR [PERSONA]': 23, 'CONSTRUCCI&#211;N [EDIFICACION]': 24, 'CUADRACICLO [VEHICULO]': 25, 'DELINCUENTE (RECONOCIDO) [PERSONA]': 26, 'DISCOTEQUE/SALON DE BAILE [EDIFICACION]': 27, 'DROGADICTO [PERSONA]': 28, 'EL AMBIENTE [OTROS]': 29, 'EL ESTADO [OTROS]': 30, 'EMPRESARIO/COMERCIANTE [PERSONA]': 31, 'ENFERMO MENTAL [PERSONA]': 32, 'ENTIDADES COMERCIALES Y FINANCIERAS [OTROS]': 33, 'ENTIDADES PUBLICAS NO FINANCIERAS [OTROS]': 34, 'EQUIPO ESPECIAL [VEHICULO]': 35, 'ESTUDIANTE [PERSONA]': 36, 'FARMACIA [EDIFICACION]': 37, 'FERRETERIA/CENTRO PINTURAS [EDIFICACION]': 38, 'FINQUERO [PERSONA]': 39, 'FURGON O CONTENEDOR [VEHICULO]': 40, 'GASOLINERIA [EDIFICACION]': 41, 'GUARDA [PERSONA]': 42, 'HOMOSEXUAL [PERSONA]': 43, 'HOTEL/MOTEL/PENSION [EDIFICACION]': 44, 'IGLESIA/TEMPLO [EDIFICACION]': 45, 'INDIGENTE [PERSONA]': 46, 'JOYERIA [EDIFICACION]': 47, 'LIBRERIA [EDIFICACION]': 48, 'LICORERA [EDIFICACION]': 49, 'MENOR DE EDAD [PERSONA]': 50, 'MERCADO [EDIFICACION]': 51, 'MICROBUS [VEHICULO]': 52, 'MOTOCICLETA [VEHICULO]': 53, 'MOTOCICLETA/MENSAJERO/COBRADOR [VEHICULO]': 54, 'MOTOCICLETA/REPARTIDOR [VEHICULO]': 55, 'NO APLICA [VIVIENDA]': 56, 'NO DEFINIDO [OTROS]': 57, 'OFICINAS/EMPRESA [EDIFICACION]': 58, 'OTRO O INDETERMINADO [EDIFICACION]': 59, 'OTRO O INDETERMINADO [PERSONA]': 60, 'OTRO O INDETERMINADO [VEHICULO]': 61, 'PANADERIA [EDIFICACION]': 62, 'PARQUEO [EDIFICACION]': 63, 'PASAJERO DE TRANSPORTE PUBLICO [PERSONA]': 64, 'PEATON [PERSONA]': 65, 'PRIVADO DE LIBERTAD [PERSONA]': 66, 'PROSTITUTA [PERSONA]': 67, 'PULPERIA/ABASTECEDOR/MINISUPER/EXPENDIO CARNE [EDIFICACION]': 68, 'RENTA DE AUTOS [EDIFICACION]': 69, 'RESTAURANTE/SODA [EDIFICACION]': 70, 'RURAL 4X4 [VEHICULO]': 71, 'SALA DE BELLEZA [EDIFICACION]': 72, 'SERVICIO PUBLICO [OTROS]': 73, 'SERVICIO PUBLICO/TAXI LEGAL O PIRATA/AUTOBUS [VEHICULO]': 74, 'SERVICIOS SOCIALES [EDIFICACION]': 75, 'SIN CLASIFICAR [EDIFICACION]': 76, 'SIN CLASIFICAR [OTROS]': 77, 'SIN CLASIFICAR [PERSONA]': 78, 'SIN CLASIFICAR [VEHICULO]': 79, 'SUPER MERCADO [EDIFICACION]': 80, 'TALLER [EDIFICACION]': 81, 'TAXISTA [PERSONA]': 82, 'TIENDA/BOUTIQUE [EDIFICACION]': 83, 'TURISTA/EXTRANJERO [PERSONA]': 84, 'TURISTA/NACIONAL [PERSONA]': 85, 'USUARIO CAJERO AUTOMATICO [PERSONA]': 86, 'USUARIO SERVICIO PUBLICO/PRIVADO [PERSONA]': 87, 'VENDEDOR DE LOTERIA [PERSONA]': 88, 'VENTA CELULARES [EDIFICACION]': 89, 'VENTA DE AUTOS [EDIFICACION]': 90, 'VETERINARIA [EDIFICACION]': 91, 'VIDEO CLUB/VIDEO JUEGO [EDIFICACION]': 92}}\n",
      "{'Edad': {'Adulto Mayor': 1, 'Desconocido': 2, 'Mayor de edad': 3, 'Menor de edad': 4}}\n",
      "{'Genero': {'DESCONOCIDO': 1, 'HOMBRE': 2, 'MUJER': 3}}\n",
      "{'Nacionalidad': {'AFGANISTAN': 1, 'ALBANIA': 2, 'ALEMANIA': 3, 'ANDORRA': 4, 'ARABIA SAUDITA': 5, 'ARGENTINA': 6, 'ARMENIA': 7, 'ARUBA': 8, 'AUSTRALIA': 9, 'AUSTRIA': 10, 'BAHAMAS': 11, 'BELGICA': 12, 'BELICE': 13, 'BERMUDAS': 14, 'BIELORRUSIA': 15, 'BOLIVIA': 16, 'BRASIL': 17, 'BULGARIA': 18, 'CAMERUN': 19, 'CANADA': 20, 'CHILE': 21, 'CHINA': 22, 'COLOMBIA': 23, 'COREA DEL NORTE': 24, 'COREA DEL SUR': 25, 'COSTA DE MARFIL': 26, 'COSTA RICA': 27, 'CROACIA': 28, 'CUBA': 29, 'CURAZAO': 30, 'DINAMARCA': 31, 'DOMINICA': 32, 'Desconocido': 33, 'ECUADOR': 34, 'EGIPTO': 35, 'EL SALVADOR': 36, 'EMIRATOS ARABES UNIDOS': 37, 'ESCOCIA': 38, 'ESLOVAQUIA': 39, 'ESLOVENIA': 40, 'ESPANA': 41, 'ESTADOS UNIDOS': 42, 'ESTONIA': 43, 'FILIPINAS': 44, 'FINLANDIA': 45, 'FRANCIA': 46, 'GALES': 47, 'GHANA': 48, 'GRECIA': 49, 'GUATEMALA': 50, 'HAITI': 51, 'HONDURAS': 52, 'HONG KONG': 53, 'HUNGRIA': 54, 'INDIA': 55, 'INDONESIA': 56, 'INGLATERRA': 57, 'IRAN': 58, 'IRLANDA': 59, 'IRLANDA DEL NORTE': 60, 'ISLANDIA': 61, 'ISRAEL': 62, 'ITALIA': 63, 'JAMAICA': 64, 'JAPON': 65, 'JORDANIA': 66, 'KAZAJISTAN': 67, 'LETONIA': 68, 'LIBANO': 69, 'LITUANIA': 70, 'LUXEMBURGO': 71, 'MALASIA': 72, 'MALTA': 73, 'MARRUECOS': 74, 'MARTINICA': 75, 'MEXICO': 76, 'MICRONESIA': 77, 'NAMIBIA': 78, 'NEPAL': 79, 'NICARAGUA': 80, 'NIGERIA': 81, 'NORUEGA': 82, 'NUEVA ZELANDA': 83, 'PAISES BAJOS (HOLANDA)': 84, 'PALESTINA': 85, 'PANAMA': 86, 'PARAGUAY': 87, 'PERU': 88, 'POLONIA': 89, 'PORTUGAL': 90, 'PUERTO RICO': 91, 'REPUBLICA CENTROAFRICANA': 92, 'REPUBLICA CHECA': 93, 'REPUBLICA DOMINICANA': 94, 'RUMANIA': 95, 'RUSIA': 96, 'SENEGAL': 97, 'SERBIA': 98, 'SINGAPUR': 99, 'SIRIA': 100, 'SUDAFRICA': 101, 'SUECIA': 102, 'SUIZA': 103, 'TAILANDIA': 104, 'TAIWAN': 105, 'TOGO': 106, 'TRINIDAD Y TOBAGO': 107, 'TUNEZ': 108, 'TURQUIA': 109, 'UCRANIA': 110, 'URUGUAY': 111, 'UZBEKISTAN': 112, 'VENEZUELA': 113, 'VIRGENES BRITANICAS': 114, 'VIRGENES DE LOS ESTADOS UNIDOS': 115}}\n",
      "{'Provincia': {' ISLAS': 1, 'ALAJUELA': 2, 'CARTAGO': 3, 'DESCONOCIDO': 4, 'GUANACASTE': 5, 'HEREDIA': 6, 'LIMON': 7, 'PUNTARENAS': 8, 'SAN JOSE': 9}}\n",
      "{'Canton': {'ABANGARES': 1, 'ACOSTA': 2, 'ALAJUELA': 3, 'ALAJUELITA': 4, 'ALVARADO': 5, 'ASERRI': 6, 'ATENAS': 7, 'BAGACES': 8, 'BARVA': 9, 'BELEN': 10, 'BUENOS AIRES': 11, 'CANAS': 12, 'CARRILLO': 13, 'CARTAGO': 14, 'CORREDORES': 15, 'COTO BRUS': 16, 'CURRIDABAT': 17, 'DESAMPARADOS': 18, 'DESCONOCIDO': 19, 'DOTA': 20, 'EL GUARCO': 21, 'ESCAZU': 22, 'ESPARZA': 23, 'FLORES': 24, 'GARABITO': 25, 'GOICOECHEA': 26, 'GOLFITO': 27, 'GRECIA': 28, 'GUACIMO': 29, 'GUATUSO': 30, 'HEREDIA': 31, 'HOJANCHA': 32, 'JIMENEZ': 33, 'LA CRUZ': 34, 'LA UNION': 35, 'LEON CORTES': 36, 'LIBERIA': 37, 'LIMON': 38, 'LOS CHILES': 39, 'MATINA': 40, 'MONTES DE OCA': 41, 'MONTES DE ORO': 42, 'MORA': 43, 'MORAVIA': 44, 'NANDAYURE': 45, 'NARANJO': 46, 'NICOYA': 47, 'OREAMUNO': 48, 'OROTINA': 49, 'OSA': 50, 'PALMARES': 51, 'PARAISO': 52, 'PARRITA': 53, 'PEREZ ZELEDON': 54, 'POAS': 55, 'POCOCI': 56, 'PUNTARENAS': 57, 'PURISCAL': 58, 'QUEPOS': 59, 'RIO CUARTO': 60, 'SAN CARLOS': 61, 'SAN ISIDRO': 62, 'SAN JOSE': 63, 'SAN MATEO': 64, 'SAN PABLO': 65, 'SAN RAFAEL': 66, 'SAN RAMON': 67, 'SANTA ANA': 68, 'SANTA BARBARA': 69, 'SANTA CRUZ': 70, 'SANTO DOMINGO': 71, 'SARAPIQUI': 72, 'SARCH&#205;': 73, 'SIQUIRRES': 74, 'TALAMANCA': 75, 'TARRAZU': 76, 'TIBAS': 77, 'TILARAN': 78, 'TURRIALBA': 79, 'TURRUBARES': 80, 'UPALA': 81, 'VASQUEZ DE CORONADO': 82, 'ZARCERO': 83}}\n"
     ]
    }
   ],
   "source": [
    "for i in df_obj.columns:\n",
    "    labels = df_obj[i].astype('category').cat.categories.tolist()\n",
    "    replace_map_comp = {i : {k: v for k, v in zip(labels,list(range(1,len(labels)+1)))}}\n",
    "    print (replace_map_comp)\n",
    "    df_obj.replace(replace_map_comp, inplace=True)\n"
   ]
  },
  {
   "cell_type": "code",
   "execution_count": 67,
   "metadata": {},
   "outputs": [
    {
     "data": {
      "text/html": [
       "<div>\n",
       "<style scoped>\n",
       "    .dataframe tbody tr th:only-of-type {\n",
       "        vertical-align: middle;\n",
       "    }\n",
       "\n",
       "    .dataframe tbody tr th {\n",
       "        vertical-align: top;\n",
       "    }\n",
       "\n",
       "    .dataframe thead th {\n",
       "        text-align: right;\n",
       "    }\n",
       "</style>\n",
       "<table border=\"1\" class=\"dataframe\">\n",
       "  <thead>\n",
       "    <tr style=\"text-align: right;\">\n",
       "      <th></th>\n",
       "      <th>Delito</th>\n",
       "      <th>SubDelito</th>\n",
       "      <th>Hora</th>\n",
       "      <th>Victima</th>\n",
       "      <th>SubVictima</th>\n",
       "      <th>Edad</th>\n",
       "      <th>Genero</th>\n",
       "      <th>Nacionalidad</th>\n",
       "      <th>Provincia</th>\n",
       "      <th>Canton</th>\n",
       "    </tr>\n",
       "  </thead>\n",
       "  <tbody>\n",
       "    <tr>\n",
       "      <th>0</th>\n",
       "      <td>1</td>\n",
       "      <td>4</td>\n",
       "      <td>5</td>\n",
       "      <td>5</td>\n",
       "      <td>56</td>\n",
       "      <td>3</td>\n",
       "      <td>3</td>\n",
       "      <td>27</td>\n",
       "      <td>7</td>\n",
       "      <td>38</td>\n",
       "    </tr>\n",
       "    <tr>\n",
       "      <th>1</th>\n",
       "      <td>1</td>\n",
       "      <td>4</td>\n",
       "      <td>7</td>\n",
       "      <td>3</td>\n",
       "      <td>65</td>\n",
       "      <td>3</td>\n",
       "      <td>2</td>\n",
       "      <td>80</td>\n",
       "      <td>9</td>\n",
       "      <td>26</td>\n",
       "    </tr>\n",
       "    <tr>\n",
       "      <th>2</th>\n",
       "      <td>1</td>\n",
       "      <td>4</td>\n",
       "      <td>1</td>\n",
       "      <td>4</td>\n",
       "      <td>74</td>\n",
       "      <td>3</td>\n",
       "      <td>2</td>\n",
       "      <td>80</td>\n",
       "      <td>9</td>\n",
       "      <td>18</td>\n",
       "    </tr>\n",
       "    <tr>\n",
       "      <th>3</th>\n",
       "      <td>1</td>\n",
       "      <td>4</td>\n",
       "      <td>7</td>\n",
       "      <td>3</td>\n",
       "      <td>65</td>\n",
       "      <td>3</td>\n",
       "      <td>3</td>\n",
       "      <td>27</td>\n",
       "      <td>6</td>\n",
       "      <td>72</td>\n",
       "    </tr>\n",
       "    <tr>\n",
       "      <th>4</th>\n",
       "      <td>1</td>\n",
       "      <td>4</td>\n",
       "      <td>2</td>\n",
       "      <td>3</td>\n",
       "      <td>65</td>\n",
       "      <td>3</td>\n",
       "      <td>2</td>\n",
       "      <td>27</td>\n",
       "      <td>3</td>\n",
       "      <td>21</td>\n",
       "    </tr>\n",
       "  </tbody>\n",
       "</table>\n",
       "</div>"
      ],
      "text/plain": [
       "  Delito SubDelito Hora Victima SubVictima Edad Genero Nacionalidad Provincia  \\\n",
       "0      1         4    5       5         56    3      3           27         7   \n",
       "1      1         4    7       3         65    3      2           80         9   \n",
       "2      1         4    1       4         74    3      2           80         9   \n",
       "3      1         4    7       3         65    3      3           27         6   \n",
       "4      1         4    2       3         65    3      2           27         3   \n",
       "\n",
       "  Canton  \n",
       "0     38  \n",
       "1     26  \n",
       "2     18  \n",
       "3     72  \n",
       "4     21  "
      ]
     },
     "execution_count": 67,
     "metadata": {},
     "output_type": "execute_result"
    }
   ],
   "source": [
    "df_obj.head()"
   ]
  },
  {
   "cell_type": "code",
   "execution_count": 68,
   "metadata": {},
   "outputs": [
    {
     "data": {
      "text/plain": [
       "Delito                category\n",
       "SubDelito             category\n",
       "Hora                  category\n",
       "Victima               category\n",
       "SubVictima            category\n",
       "Edad                  category\n",
       "Genero                category\n",
       "Nacionalidad          category\n",
       "Provincia             category\n",
       "Canton                category\n",
       "Fecha           datetime64[ns]\n",
       "dtype: object"
      ]
     },
     "execution_count": 68,
     "metadata": {},
     "output_type": "execute_result"
    }
   ],
   "source": [
    "#add date column from df to df_obj\n",
    "df_obj['Fecha'] = df['Fecha']\n",
    "df_obj.dtypes"
   ]
  },
  {
   "cell_type": "code",
   "execution_count": 69,
   "metadata": {},
   "outputs": [
    {
     "data": {
      "text/html": [
       "<div>\n",
       "<style scoped>\n",
       "    .dataframe tbody tr th:only-of-type {\n",
       "        vertical-align: middle;\n",
       "    }\n",
       "\n",
       "    .dataframe tbody tr th {\n",
       "        vertical-align: top;\n",
       "    }\n",
       "\n",
       "    .dataframe thead th {\n",
       "        text-align: right;\n",
       "    }\n",
       "</style>\n",
       "<table border=\"1\" class=\"dataframe\">\n",
       "  <thead>\n",
       "    <tr style=\"text-align: right;\">\n",
       "      <th></th>\n",
       "      <th></th>\n",
       "      <th></th>\n",
       "      <th></th>\n",
       "      <th>Delito</th>\n",
       "      <th>SubDelito</th>\n",
       "      <th>Hora</th>\n",
       "      <th>Victima</th>\n",
       "      <th>SubVictima</th>\n",
       "      <th>Edad</th>\n",
       "      <th>Nacionalidad</th>\n",
       "    </tr>\n",
       "    <tr>\n",
       "      <th>Fecha</th>\n",
       "      <th>Genero</th>\n",
       "      <th>Provincia</th>\n",
       "      <th>Canton</th>\n",
       "      <th></th>\n",
       "      <th></th>\n",
       "      <th></th>\n",
       "      <th></th>\n",
       "      <th></th>\n",
       "      <th></th>\n",
       "      <th></th>\n",
       "    </tr>\n",
       "  </thead>\n",
       "  <tbody>\n",
       "    <tr>\n",
       "      <th rowspan=\"5\" valign=\"top\">2019-01-01</th>\n",
       "      <th rowspan=\"5\" valign=\"top\">1</th>\n",
       "      <th rowspan=\"5\" valign=\"top\">1</th>\n",
       "      <th>1</th>\n",
       "      <td>0</td>\n",
       "      <td>0</td>\n",
       "      <td>0</td>\n",
       "      <td>0</td>\n",
       "      <td>0</td>\n",
       "      <td>0</td>\n",
       "      <td>0</td>\n",
       "    </tr>\n",
       "    <tr>\n",
       "      <th>2</th>\n",
       "      <td>0</td>\n",
       "      <td>0</td>\n",
       "      <td>0</td>\n",
       "      <td>0</td>\n",
       "      <td>0</td>\n",
       "      <td>0</td>\n",
       "      <td>0</td>\n",
       "    </tr>\n",
       "    <tr>\n",
       "      <th>3</th>\n",
       "      <td>0</td>\n",
       "      <td>0</td>\n",
       "      <td>0</td>\n",
       "      <td>0</td>\n",
       "      <td>0</td>\n",
       "      <td>0</td>\n",
       "      <td>0</td>\n",
       "    </tr>\n",
       "    <tr>\n",
       "      <th>4</th>\n",
       "      <td>0</td>\n",
       "      <td>0</td>\n",
       "      <td>0</td>\n",
       "      <td>0</td>\n",
       "      <td>0</td>\n",
       "      <td>0</td>\n",
       "      <td>0</td>\n",
       "    </tr>\n",
       "    <tr>\n",
       "      <th>5</th>\n",
       "      <td>0</td>\n",
       "      <td>0</td>\n",
       "      <td>0</td>\n",
       "      <td>0</td>\n",
       "      <td>0</td>\n",
       "      <td>0</td>\n",
       "      <td>0</td>\n",
       "    </tr>\n",
       "  </tbody>\n",
       "</table>\n",
       "</div>"
      ],
      "text/plain": [
       "                                    Delito  SubDelito  Hora  Victima  \\\n",
       "Fecha      Genero Provincia Canton                                     \n",
       "2019-01-01 1      1         1            0          0     0        0   \n",
       "                            2            0          0     0        0   \n",
       "                            3            0          0     0        0   \n",
       "                            4            0          0     0        0   \n",
       "                            5            0          0     0        0   \n",
       "\n",
       "                                    SubVictima  Edad  Nacionalidad  \n",
       "Fecha      Genero Provincia Canton                                  \n",
       "2019-01-01 1      1         1                0     0             0  \n",
       "                            2                0     0             0  \n",
       "                            3                0     0             0  \n",
       "                            4                0     0             0  \n",
       "                            5                0     0             0  "
      ]
     },
     "execution_count": 69,
     "metadata": {},
     "output_type": "execute_result"
    }
   ],
   "source": [
    "#group by date and sum the values\n",
    "df_obj_grouped = df_obj.groupby(['Fecha','Genero','Provincia','Canton']).count()\n",
    "df_obj_grouped.head()"
   ]
  },
  {
   "cell_type": "code",
   "execution_count": 70,
   "metadata": {},
   "outputs": [
    {
     "data": {
      "text/html": [
       "<div>\n",
       "<style scoped>\n",
       "    .dataframe tbody tr th:only-of-type {\n",
       "        vertical-align: middle;\n",
       "    }\n",
       "\n",
       "    .dataframe tbody tr th {\n",
       "        vertical-align: top;\n",
       "    }\n",
       "\n",
       "    .dataframe thead th {\n",
       "        text-align: right;\n",
       "    }\n",
       "</style>\n",
       "<table border=\"1\" class=\"dataframe\">\n",
       "  <thead>\n",
       "    <tr style=\"text-align: right;\">\n",
       "      <th></th>\n",
       "      <th>Fecha</th>\n",
       "      <th>Genero</th>\n",
       "      <th>Provincia</th>\n",
       "      <th>Canton</th>\n",
       "      <th>Delito</th>\n",
       "      <th>SubDelito</th>\n",
       "      <th>Hora</th>\n",
       "      <th>Victima</th>\n",
       "      <th>SubVictima</th>\n",
       "      <th>Edad</th>\n",
       "      <th>Nacionalidad</th>\n",
       "    </tr>\n",
       "  </thead>\n",
       "  <tbody>\n",
       "    <tr>\n",
       "      <th>2877439</th>\n",
       "      <td>2022-07-07</td>\n",
       "      <td>3</td>\n",
       "      <td>9</td>\n",
       "      <td>79</td>\n",
       "      <td>0</td>\n",
       "      <td>0</td>\n",
       "      <td>0</td>\n",
       "      <td>0</td>\n",
       "      <td>0</td>\n",
       "      <td>0</td>\n",
       "      <td>0</td>\n",
       "    </tr>\n",
       "    <tr>\n",
       "      <th>2877440</th>\n",
       "      <td>2022-07-07</td>\n",
       "      <td>3</td>\n",
       "      <td>9</td>\n",
       "      <td>80</td>\n",
       "      <td>0</td>\n",
       "      <td>0</td>\n",
       "      <td>0</td>\n",
       "      <td>0</td>\n",
       "      <td>0</td>\n",
       "      <td>0</td>\n",
       "      <td>0</td>\n",
       "    </tr>\n",
       "    <tr>\n",
       "      <th>2877441</th>\n",
       "      <td>2022-07-07</td>\n",
       "      <td>3</td>\n",
       "      <td>9</td>\n",
       "      <td>81</td>\n",
       "      <td>0</td>\n",
       "      <td>0</td>\n",
       "      <td>0</td>\n",
       "      <td>0</td>\n",
       "      <td>0</td>\n",
       "      <td>0</td>\n",
       "      <td>0</td>\n",
       "    </tr>\n",
       "    <tr>\n",
       "      <th>2877442</th>\n",
       "      <td>2022-07-07</td>\n",
       "      <td>3</td>\n",
       "      <td>9</td>\n",
       "      <td>82</td>\n",
       "      <td>0</td>\n",
       "      <td>0</td>\n",
       "      <td>0</td>\n",
       "      <td>0</td>\n",
       "      <td>0</td>\n",
       "      <td>0</td>\n",
       "      <td>0</td>\n",
       "    </tr>\n",
       "    <tr>\n",
       "      <th>2877443</th>\n",
       "      <td>2022-07-07</td>\n",
       "      <td>3</td>\n",
       "      <td>9</td>\n",
       "      <td>83</td>\n",
       "      <td>0</td>\n",
       "      <td>0</td>\n",
       "      <td>0</td>\n",
       "      <td>0</td>\n",
       "      <td>0</td>\n",
       "      <td>0</td>\n",
       "      <td>0</td>\n",
       "    </tr>\n",
       "  </tbody>\n",
       "</table>\n",
       "</div>"
      ],
      "text/plain": [
       "             Fecha Genero Provincia Canton  Delito  SubDelito  Hora  Victima  \\\n",
       "2877439 2022-07-07      3         9     79       0          0     0        0   \n",
       "2877440 2022-07-07      3         9     80       0          0     0        0   \n",
       "2877441 2022-07-07      3         9     81       0          0     0        0   \n",
       "2877442 2022-07-07      3         9     82       0          0     0        0   \n",
       "2877443 2022-07-07      3         9     83       0          0     0        0   \n",
       "\n",
       "         SubVictima  Edad  Nacionalidad  \n",
       "2877439           0     0             0  \n",
       "2877440           0     0             0  \n",
       "2877441           0     0             0  \n",
       "2877442           0     0             0  \n",
       "2877443           0     0             0  "
      ]
     },
     "execution_count": 70,
     "metadata": {},
     "output_type": "execute_result"
    }
   ],
   "source": [
    "#restart the index\n",
    "df_obj_grouped = df_obj_grouped.reset_index()\n",
    "#order by delito\n",
    "#df_obj_grouped = df_obj_grouped.sort_values(by=['Delito'], ascending=True)\n",
    "df_obj_grouped.tail()"
   ]
  },
  {
   "cell_type": "code",
   "execution_count": 71,
   "metadata": {},
   "outputs": [],
   "source": [
    "df_obj_grouped = df_obj_grouped.drop(['SubDelito', 'Hora', 'Victima', 'SubVictima','Edad','Nacionalidad'], axis=1)\n"
   ]
  },
  {
   "cell_type": "code",
   "execution_count": 72,
   "metadata": {},
   "outputs": [
    {
     "data": {
      "text/html": [
       "<div>\n",
       "<style scoped>\n",
       "    .dataframe tbody tr th:only-of-type {\n",
       "        vertical-align: middle;\n",
       "    }\n",
       "\n",
       "    .dataframe tbody tr th {\n",
       "        vertical-align: top;\n",
       "    }\n",
       "\n",
       "    .dataframe thead th {\n",
       "        text-align: right;\n",
       "    }\n",
       "</style>\n",
       "<table border=\"1\" class=\"dataframe\">\n",
       "  <thead>\n",
       "    <tr style=\"text-align: right;\">\n",
       "      <th></th>\n",
       "      <th>Delito</th>\n",
       "      <th>SubDelito</th>\n",
       "      <th>Hora</th>\n",
       "      <th>Victima</th>\n",
       "      <th>SubVictima</th>\n",
       "      <th>Edad</th>\n",
       "      <th>Genero</th>\n",
       "      <th>Nacionalidad</th>\n",
       "      <th>Provincia</th>\n",
       "      <th>Canton</th>\n",
       "      <th>Fecha</th>\n",
       "    </tr>\n",
       "  </thead>\n",
       "  <tbody>\n",
       "    <tr>\n",
       "      <th>0</th>\n",
       "      <td>1</td>\n",
       "      <td>4</td>\n",
       "      <td>5</td>\n",
       "      <td>5</td>\n",
       "      <td>56</td>\n",
       "      <td>3</td>\n",
       "      <td>3</td>\n",
       "      <td>27</td>\n",
       "      <td>7</td>\n",
       "      <td>38</td>\n",
       "      <td>2019-01-01</td>\n",
       "    </tr>\n",
       "    <tr>\n",
       "      <th>1</th>\n",
       "      <td>1</td>\n",
       "      <td>4</td>\n",
       "      <td>7</td>\n",
       "      <td>3</td>\n",
       "      <td>65</td>\n",
       "      <td>3</td>\n",
       "      <td>2</td>\n",
       "      <td>80</td>\n",
       "      <td>9</td>\n",
       "      <td>26</td>\n",
       "      <td>2019-01-02</td>\n",
       "    </tr>\n",
       "    <tr>\n",
       "      <th>2</th>\n",
       "      <td>1</td>\n",
       "      <td>4</td>\n",
       "      <td>1</td>\n",
       "      <td>4</td>\n",
       "      <td>74</td>\n",
       "      <td>3</td>\n",
       "      <td>2</td>\n",
       "      <td>80</td>\n",
       "      <td>9</td>\n",
       "      <td>18</td>\n",
       "      <td>2019-01-08</td>\n",
       "    </tr>\n",
       "    <tr>\n",
       "      <th>3</th>\n",
       "      <td>1</td>\n",
       "      <td>4</td>\n",
       "      <td>7</td>\n",
       "      <td>3</td>\n",
       "      <td>65</td>\n",
       "      <td>3</td>\n",
       "      <td>3</td>\n",
       "      <td>27</td>\n",
       "      <td>6</td>\n",
       "      <td>72</td>\n",
       "      <td>2019-01-07</td>\n",
       "    </tr>\n",
       "    <tr>\n",
       "      <th>4</th>\n",
       "      <td>1</td>\n",
       "      <td>4</td>\n",
       "      <td>2</td>\n",
       "      <td>3</td>\n",
       "      <td>65</td>\n",
       "      <td>3</td>\n",
       "      <td>2</td>\n",
       "      <td>27</td>\n",
       "      <td>3</td>\n",
       "      <td>21</td>\n",
       "      <td>2019-01-11</td>\n",
       "    </tr>\n",
       "  </tbody>\n",
       "</table>\n",
       "</div>"
      ],
      "text/plain": [
       "  Delito SubDelito Hora Victima SubVictima Edad Genero Nacionalidad Provincia  \\\n",
       "0      1         4    5       5         56    3      3           27         7   \n",
       "1      1         4    7       3         65    3      2           80         9   \n",
       "2      1         4    1       4         74    3      2           80         9   \n",
       "3      1         4    7       3         65    3      3           27         6   \n",
       "4      1         4    2       3         65    3      2           27         3   \n",
       "\n",
       "  Canton      Fecha  \n",
       "0     38 2019-01-01  \n",
       "1     26 2019-01-02  \n",
       "2     18 2019-01-08  \n",
       "3     72 2019-01-07  \n",
       "4     21 2019-01-11  "
      ]
     },
     "execution_count": 72,
     "metadata": {},
     "output_type": "execute_result"
    }
   ],
   "source": [
    "df_obj.head()"
   ]
  },
  {
   "cell_type": "code",
   "execution_count": 73,
   "metadata": {},
   "outputs": [
    {
     "name": "stderr",
     "output_type": "stream",
     "text": [
      "C:\\Users\\Administrador\\AppData\\Local\\Temp\\ipykernel_1700\\3424680100.py:2: FutureWarning: Series.dt.weekofyear and Series.dt.week have been deprecated. Please use Series.dt.isocalendar().week instead.\n",
      "  df_obj_grouped['Semana'] = df_obj_grouped['Fecha'].dt.week\n"
     ]
    },
    {
     "data": {
      "text/html": [
       "<div>\n",
       "<style scoped>\n",
       "    .dataframe tbody tr th:only-of-type {\n",
       "        vertical-align: middle;\n",
       "    }\n",
       "\n",
       "    .dataframe tbody tr th {\n",
       "        vertical-align: top;\n",
       "    }\n",
       "\n",
       "    .dataframe thead th {\n",
       "        text-align: right;\n",
       "    }\n",
       "</style>\n",
       "<table border=\"1\" class=\"dataframe\">\n",
       "  <thead>\n",
       "    <tr style=\"text-align: right;\">\n",
       "      <th></th>\n",
       "      <th>Fecha</th>\n",
       "      <th>Genero</th>\n",
       "      <th>Provincia</th>\n",
       "      <th>Canton</th>\n",
       "      <th>Delito</th>\n",
       "      <th>Semana</th>\n",
       "      <th>Anio</th>\n",
       "    </tr>\n",
       "  </thead>\n",
       "  <tbody>\n",
       "    <tr>\n",
       "      <th>0</th>\n",
       "      <td>2019-01-01</td>\n",
       "      <td>1</td>\n",
       "      <td>1</td>\n",
       "      <td>1</td>\n",
       "      <td>0</td>\n",
       "      <td>1</td>\n",
       "      <td>2019</td>\n",
       "    </tr>\n",
       "    <tr>\n",
       "      <th>1</th>\n",
       "      <td>2019-01-01</td>\n",
       "      <td>1</td>\n",
       "      <td>1</td>\n",
       "      <td>2</td>\n",
       "      <td>0</td>\n",
       "      <td>1</td>\n",
       "      <td>2019</td>\n",
       "    </tr>\n",
       "    <tr>\n",
       "      <th>2</th>\n",
       "      <td>2019-01-01</td>\n",
       "      <td>1</td>\n",
       "      <td>1</td>\n",
       "      <td>3</td>\n",
       "      <td>0</td>\n",
       "      <td>1</td>\n",
       "      <td>2019</td>\n",
       "    </tr>\n",
       "    <tr>\n",
       "      <th>3</th>\n",
       "      <td>2019-01-01</td>\n",
       "      <td>1</td>\n",
       "      <td>1</td>\n",
       "      <td>4</td>\n",
       "      <td>0</td>\n",
       "      <td>1</td>\n",
       "      <td>2019</td>\n",
       "    </tr>\n",
       "    <tr>\n",
       "      <th>4</th>\n",
       "      <td>2019-01-01</td>\n",
       "      <td>1</td>\n",
       "      <td>1</td>\n",
       "      <td>5</td>\n",
       "      <td>0</td>\n",
       "      <td>1</td>\n",
       "      <td>2019</td>\n",
       "    </tr>\n",
       "  </tbody>\n",
       "</table>\n",
       "</div>"
      ],
      "text/plain": [
       "       Fecha Genero Provincia Canton  Delito  Semana  Anio\n",
       "0 2019-01-01      1         1      1       0       1  2019\n",
       "1 2019-01-01      1         1      2       0       1  2019\n",
       "2 2019-01-01      1         1      3       0       1  2019\n",
       "3 2019-01-01      1         1      4       0       1  2019\n",
       "4 2019-01-01      1         1      5       0       1  2019"
      ]
     },
     "execution_count": 73,
     "metadata": {},
     "output_type": "execute_result"
    }
   ],
   "source": [
    "#calculate the week by Frecha\n",
    "df_obj_grouped['Semana'] = df_obj_grouped['Fecha'].dt.week\n",
    "#calculate the year by Frecha\n",
    "df_obj_grouped['Anio'] = df_obj_grouped['Fecha'].dt.year\n",
    "df_obj_grouped.head()"
   ]
  },
  {
   "cell_type": "code",
   "execution_count": 74,
   "metadata": {},
   "outputs": [
    {
     "data": {
      "image/png": "[encoded data removed]",
      "text/plain": [
       "<Figure size 1080x432 with 1 Axes>"
      ]
     },
     "metadata": {},
     "output_type": "display_data"
    }
   ],
   "source": [
    "#Aggregate data into weekly sum\n",
    "sample=df_obj_grouped[['Fecha','Delito']]\n",
    "weekly=sample.resample('W', on='Fecha').sum()\n",
    "#visualize weekly data\n",
    "weekly.plot(figsize=(15, 6))\n",
    "plt.show()"
   ]
  },
  {
   "cell_type": "code",
   "execution_count": 75,
   "metadata": {},
   "outputs": [],
   "source": [
    "#import winsorize form scipy\n",
    "from scipy import stats as st"
   ]
  },
  {
   "cell_type": "code",
   "execution_count": 76,
   "metadata": {},
   "outputs": [],
   "source": [
    "#remove the first part of data with no steps\n",
    "sample=df_obj_grouped[df_obj_grouped['Fecha']<'2022-07-01'][['Fecha','Delito']]\n"
   ]
  },
  {
   "cell_type": "code",
   "execution_count": 77,
   "metadata": {},
   "outputs": [],
   "source": [
    "#aggregate data on daily level\n",
    "daily=sample.resample('D',on='Fecha').sum()"
   ]
  },
  {
   "cell_type": "code",
   "execution_count": 78,
   "metadata": {},
   "outputs": [],
   "source": [
    "#Winsorize daily data\n",
    "daily['winsorized_value']=st.mstats.winsorize(daily['Delito'], limits=[0.02, 0.02])"
   ]
  },
  {
   "cell_type": "code",
   "execution_count": 79,
   "metadata": {},
   "outputs": [
    {
     "data": {
      "image/png": "[encoded data removed]",
      "text/plain": [
       "<Figure size 1080x432 with 1 Axes>"
      ]
     },
     "metadata": {},
     "output_type": "display_data"
    }
   ],
   "source": [
    "#Aggregate daily data into weekly data again\n",
    "weekly=daily.resample('W').sum()\n",
    "#visualize new weekly data\n",
    "weekly.plot(figsize=(15, 6))\n",
    "plt.show()"
   ]
  },
  {
   "cell_type": "code",
   "execution_count": 39,
   "metadata": {},
   "outputs": [
    {
     "data": {
      "text/html": [
       "<div>\n",
       "<style scoped>\n",
       "    .dataframe tbody tr th:only-of-type {\n",
       "        vertical-align: middle;\n",
       "    }\n",
       "\n",
       "    .dataframe tbody tr th {\n",
       "        vertical-align: top;\n",
       "    }\n",
       "\n",
       "    .dataframe thead th {\n",
       "        text-align: right;\n",
       "    }\n",
       "</style>\n",
       "<table border=\"1\" class=\"dataframe\">\n",
       "  <thead>\n",
       "    <tr style=\"text-align: right;\">\n",
       "      <th></th>\n",
       "      <th></th>\n",
       "      <th></th>\n",
       "      <th></th>\n",
       "      <th></th>\n",
       "      <th>Fecha</th>\n",
       "      <th>Delito</th>\n",
       "    </tr>\n",
       "    <tr>\n",
       "      <th>Semana</th>\n",
       "      <th>Genero</th>\n",
       "      <th>Provincia</th>\n",
       "      <th>Canton</th>\n",
       "      <th>Anio</th>\n",
       "      <th></th>\n",
       "      <th></th>\n",
       "    </tr>\n",
       "  </thead>\n",
       "  <tbody>\n",
       "    <tr>\n",
       "      <th rowspan=\"5\" valign=\"top\">1</th>\n",
       "      <th rowspan=\"5\" valign=\"top\">1</th>\n",
       "      <th rowspan=\"5\" valign=\"top\">1</th>\n",
       "      <th rowspan=\"4\" valign=\"top\">1</th>\n",
       "      <th>2019</th>\n",
       "      <td>8</td>\n",
       "      <td>8</td>\n",
       "    </tr>\n",
       "    <tr>\n",
       "      <th>2020</th>\n",
       "      <td>5</td>\n",
       "      <td>5</td>\n",
       "    </tr>\n",
       "    <tr>\n",
       "      <th>2021</th>\n",
       "      <td>7</td>\n",
       "      <td>7</td>\n",
       "    </tr>\n",
       "    <tr>\n",
       "      <th>2022</th>\n",
       "      <td>7</td>\n",
       "      <td>7</td>\n",
       "    </tr>\n",
       "    <tr>\n",
       "      <th>2</th>\n",
       "      <th>2019</th>\n",
       "      <td>8</td>\n",
       "      <td>8</td>\n",
       "    </tr>\n",
       "  </tbody>\n",
       "</table>\n",
       "</div>"
      ],
      "text/plain": [
       "                                     Fecha  Delito\n",
       "Semana Genero Provincia Canton Anio               \n",
       "1      1      1         1      2019      8       8\n",
       "                               2020      5       5\n",
       "                               2021      7       7\n",
       "                               2022      7       7\n",
       "                        2      2019      8       8"
      ]
     },
     "execution_count": 39,
     "metadata": {},
     "output_type": "execute_result"
    }
   ],
   "source": [
    "#group by week and sum the values\n",
    "df_obj_grouped_semana = df_obj_grouped.groupby(['Semana','Genero','Provincia','Canton','Anio']).count()\n",
    "df_obj_grouped_semana.head()"
   ]
  },
  {
   "cell_type": "code",
   "execution_count": 40,
   "metadata": {},
   "outputs": [
    {
     "data": {
      "text/html": [
       "<div>\n",
       "<style scoped>\n",
       "    .dataframe tbody tr th:only-of-type {\n",
       "        vertical-align: middle;\n",
       "    }\n",
       "\n",
       "    .dataframe tbody tr th {\n",
       "        vertical-align: top;\n",
       "    }\n",
       "\n",
       "    .dataframe thead th {\n",
       "        text-align: right;\n",
       "    }\n",
       "</style>\n",
       "<table border=\"1\" class=\"dataframe\">\n",
       "  <thead>\n",
       "    <tr style=\"text-align: right;\">\n",
       "      <th></th>\n",
       "      <th>Semana</th>\n",
       "      <th>Genero</th>\n",
       "      <th>Provincia</th>\n",
       "      <th>Canton</th>\n",
       "      <th>Anio</th>\n",
       "      <th>Fecha</th>\n",
       "      <th>Delito</th>\n",
       "    </tr>\n",
       "  </thead>\n",
       "  <tbody>\n",
       "    <tr>\n",
       "      <th>475087</th>\n",
       "      <td>53</td>\n",
       "      <td>3</td>\n",
       "      <td>9</td>\n",
       "      <td>82</td>\n",
       "      <td>2022</td>\n",
       "      <td>0</td>\n",
       "      <td>0</td>\n",
       "    </tr>\n",
       "    <tr>\n",
       "      <th>475088</th>\n",
       "      <td>53</td>\n",
       "      <td>3</td>\n",
       "      <td>9</td>\n",
       "      <td>83</td>\n",
       "      <td>2019</td>\n",
       "      <td>0</td>\n",
       "      <td>0</td>\n",
       "    </tr>\n",
       "    <tr>\n",
       "      <th>475089</th>\n",
       "      <td>53</td>\n",
       "      <td>3</td>\n",
       "      <td>9</td>\n",
       "      <td>83</td>\n",
       "      <td>2020</td>\n",
       "      <td>4</td>\n",
       "      <td>4</td>\n",
       "    </tr>\n",
       "    <tr>\n",
       "      <th>475090</th>\n",
       "      <td>53</td>\n",
       "      <td>3</td>\n",
       "      <td>9</td>\n",
       "      <td>83</td>\n",
       "      <td>2021</td>\n",
       "      <td>3</td>\n",
       "      <td>3</td>\n",
       "    </tr>\n",
       "    <tr>\n",
       "      <th>475091</th>\n",
       "      <td>53</td>\n",
       "      <td>3</td>\n",
       "      <td>9</td>\n",
       "      <td>83</td>\n",
       "      <td>2022</td>\n",
       "      <td>0</td>\n",
       "      <td>0</td>\n",
       "    </tr>\n",
       "  </tbody>\n",
       "</table>\n",
       "</div>"
      ],
      "text/plain": [
       "        Semana Genero Provincia Canton  Anio  Fecha  Delito\n",
       "475087      53      3         9     82  2022      0       0\n",
       "475088      53      3         9     83  2019      0       0\n",
       "475089      53      3         9     83  2020      4       4\n",
       "475090      53      3         9     83  2021      3       3\n",
       "475091      53      3         9     83  2022      0       0"
      ]
     },
     "execution_count": 40,
     "metadata": {},
     "output_type": "execute_result"
    }
   ],
   "source": [
    "#restart the index\n",
    "df_obj_grouped_semana = df_obj_grouped_semana.reset_index()\n",
    "df_obj_grouped_semana.tail()"
   ]
  },
  {
   "cell_type": "code",
   "execution_count": 41,
   "metadata": {},
   "outputs": [
    {
     "data": {
      "text/plain": [
       "Semana          int64\n",
       "Genero       category\n",
       "Provincia    category\n",
       "Canton       category\n",
       "Anio            int64\n",
       "Fecha           int64\n",
       "Delito          int64\n",
       "dtype: object"
      ]
     },
     "execution_count": 41,
     "metadata": {},
     "output_type": "execute_result"
    }
   ],
   "source": [
    "df_obj_grouped_semana.dtypes"
   ]
  }
 ],
 "metadata": {
  "kernelspec": {
   "display_name": "Python 3.10.5 64-bit",
   "language": "python",
   "name": "python3"
  },
  "language_info": {
   "codemirror_mode": {
    "name": "ipython",
    "version": 3
   },
   "file_extension": ".py",
   "mimetype": "text/x-python",
   "name": "python",
   "nbconvert_exporter": "python",
   "pygments_lexer": "ipython3",
   "version": "3.10.5"
  },
  "orig_nbformat": 4,
  "vscode": {
   "interpreter": {
    "hash": "d7546de2d5b66e6bb4051f93f462cf1f21acc5c70ac66712f7c9fa60f386dd80"
   }
  }
 },
 "nbformat": 4,
 "nbformat_minor": 2
}
